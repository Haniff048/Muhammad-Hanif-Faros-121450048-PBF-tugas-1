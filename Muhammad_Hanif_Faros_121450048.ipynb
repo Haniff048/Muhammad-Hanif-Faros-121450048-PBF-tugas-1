{
  "nbformat": 4,
  "nbformat_minor": 0,
  "metadata": {
    "colab": {
      "provenance": []
    },
    "kernelspec": {
      "name": "python3",
      "display_name": "Python 3"
    },
    "language_info": {
      "name": "python"
    }
  },
  "cells": [
    {
      "cell_type": "code",
      "execution_count": 1,
      "metadata": {
        "id": "gUZcP4uN-QeI"
      },
      "outputs": [],
      "source": [
        "from functools import reduce"
      ]
    },
    {
      "cell_type": "code",
      "source": [
        "def caesar_encrypt(password):\n",
        "    ascii_values = [ord(char) for char in password]\n",
        "    encrypt_values = [(chr((value//26)+80), chr(value%26+80), '+' if value//26 > value%26 else '-') for value in ascii_values]\n",
        "    encrypted_password = reduce(lambda acc, val: acc+val[0]+val[1]+val[2], encrypt_values, '')\n",
        "    return encrypted_password"
      ],
      "metadata": {
        "id": "EvuNtHqT-a6a"
      },
      "execution_count": 2,
      "outputs": []
    },
    {
      "cell_type": "code",
      "source": [
        "password = input(\"Masukkan password: \")"
      ],
      "metadata": {
        "colab": {
          "base_uri": "https://localhost:8080/"
        },
        "id": "WwjjXi_O-ZTj",
        "outputId": "692234fb-1354-4560-bbc7-e6ee14172a45"
      },
      "execution_count": 3,
      "outputs": [
        {
          "name": "stdout",
          "output_type": "stream",
          "text": [
            "Masukkan password: hanif\n"
          ]
        }
      ]
    },
    {
      "cell_type": "code",
      "source": [
        "encrypted_password = caesar_encrypt(password)"
      ],
      "metadata": {
        "id": "VmNL4unE-XtF"
      },
      "execution_count": 4,
      "outputs": []
    },
    {
      "cell_type": "code",
      "source": [
        "print(\"Password: \", password)"
      ],
      "metadata": {
        "colab": {
          "base_uri": "https://localhost:8080/"
        },
        "id": "ubD1_iuj-VpN",
        "outputId": "3776b624-cf80-4fed-b52b-dfdfbe9a92e8"
      },
      "execution_count": 5,
      "outputs": [
        {
          "output_type": "stream",
          "name": "stdout",
          "text": [
            "Password:  hanif\n"
          ]
        }
      ]
    },
    {
      "cell_type": "code",
      "source": [
        "print(\"Password Terenkripsi: \", encrypted_password)"
      ],
      "metadata": {
        "colab": {
          "base_uri": "https://localhost:8080/"
        },
        "id": "Kp2QGro7-Tis",
        "outputId": "8ef6ba57-fdcf-4d74-e13b-82cae3eb5561"
      },
      "execution_count": 6,
      "outputs": [
        {
          "output_type": "stream",
          "name": "stdout",
          "text": [
            "Password Terenkripsi:  TP+Sc-TV-TQ+Sh-\n"
          ]
        }
      ]
    }
  ]
}